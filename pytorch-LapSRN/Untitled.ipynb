{
 "cells": [
  {
   "cell_type": "code",
   "execution_count": 1,
   "id": "74bc237c-0fb0-416e-95d0-2df7cfe66503",
   "metadata": {},
   "outputs": [
    {
     "name": "stdout",
     "output_type": "stream",
     "text": [
      "This is not zip\n"
     ]
    }
   ],
   "source": [
    "import os\n",
    "import zipfile\n",
    "\n",
    "file_name = './'\n",
    "zipname = './Val_alloutput_x2.zip'\n",
    "\n",
    "# if os.path.isdir(file_name):\n",
    "#     pass\n",
    "# else:\n",
    "#     os.mkdir(file_name)\n",
    "        \n",
    "def unzip_file(zip_src, dst_dir):\n",
    "\n",
    "    r = zipfile.is_zipfile(zip_src)   \n",
    "\n",
    "    fz = zipfile.ZipFile(zip_src, 'r')\n",
    "\n",
    "    for file in fz.namelist():\n",
    "\n",
    "        fz.extract(file, dst_dir)     \n",
    "\n",
    "    else:\n",
    "\n",
    "        print('This is not zip')\n",
    "unzip_file(zipname, file_name)"
   ]
  },
  {
   "cell_type": "code",
   "execution_count": null,
   "id": "27d665b4-887b-44ae-bf50-b802dab8f091",
   "metadata": {},
   "outputs": [],
   "source": []
  }
 ],
 "metadata": {
  "kernelspec": {
   "display_name": "Python 3",
   "language": "python",
   "name": "python3"
  },
  "language_info": {
   "codemirror_mode": {
    "name": "ipython",
    "version": 3
   },
   "file_extension": ".py",
   "mimetype": "text/x-python",
   "name": "python",
   "nbconvert_exporter": "python",
   "pygments_lexer": "ipython3",
   "version": "3.6.9"
  }
 },
 "nbformat": 4,
 "nbformat_minor": 5
}
